{
 "cells": [
  {
   "cell_type": "code",
   "execution_count": 1,
   "id": "c7059efc",
   "metadata": {},
   "outputs": [
    {
     "name": "stdout",
     "output_type": "stream",
     "text": [
      "Requirement already satisfied: webdriver_manager in c:\\users\\john.delmundo\\appdata\\local\\programs\\python\\python310\\lib\\site-packages (3.8.6)\n",
      "Requirement already satisfied: bs4 in c:\\users\\john.delmundo\\appdata\\local\\programs\\python\\python310\\lib\\site-packages (0.0.1)\n",
      "Requirement already satisfied: selenium in c:\\users\\john.delmundo\\appdata\\local\\programs\\python\\python310\\lib\\site-packages (4.2.0)\n",
      "Requirement already satisfied: tqdm in c:\\users\\john.delmundo\\appdata\\local\\programs\\python\\python310\\lib\\site-packages (from webdriver_manager) (4.65.0)\n",
      "Requirement already satisfied: packaging in c:\\users\\john.delmundo\\appdata\\local\\programs\\python\\python310\\lib\\site-packages (from webdriver_manager) (21.3)\n",
      "Requirement already satisfied: python-dotenv in c:\\users\\john.delmundo\\appdata\\local\\programs\\python\\python310\\lib\\site-packages (from webdriver_manager) (1.0.0)\n",
      "Requirement already satisfied: requests in c:\\users\\john.delmundo\\appdata\\local\\programs\\python\\python310\\lib\\site-packages (from webdriver_manager) (2.27.1)\n",
      "Requirement already satisfied: beautifulsoup4 in c:\\users\\john.delmundo\\appdata\\local\\programs\\python\\python310\\lib\\site-packages (from bs4) (4.11.1)\n",
      "Requirement already satisfied: trio-websocket~=0.9 in c:\\users\\john.delmundo\\appdata\\local\\programs\\python\\python310\\lib\\site-packages (from selenium) (0.9.2)\n",
      "Requirement already satisfied: urllib3[secure,socks]~=1.26 in c:\\users\\john.delmundo\\appdata\\local\\programs\\python\\python310\\lib\\site-packages (from selenium) (1.26.8)\n",
      "Requirement already satisfied: trio~=0.17 in c:\\users\\john.delmundo\\appdata\\local\\programs\\python\\python310\\lib\\site-packages (from selenium) (0.21.0)\n",
      "Requirement already satisfied: async-generator>=1.9 in c:\\users\\john.delmundo\\appdata\\local\\programs\\python\\python310\\lib\\site-packages (from trio~=0.17->selenium) (1.10)\n",
      "Requirement already satisfied: sortedcontainers in c:\\users\\john.delmundo\\appdata\\local\\programs\\python\\python310\\lib\\site-packages (from trio~=0.17->selenium) (2.4.0)\n",
      "Requirement already satisfied: outcome in c:\\users\\john.delmundo\\appdata\\local\\programs\\python\\python310\\lib\\site-packages (from trio~=0.17->selenium) (1.2.0)\n",
      "Requirement already satisfied: cffi>=1.14 in c:\\users\\john.delmundo\\appdata\\local\\programs\\python\\python310\\lib\\site-packages (from trio~=0.17->selenium) (1.15.0)\n",
      "Requirement already satisfied: idna in c:\\users\\john.delmundo\\appdata\\local\\programs\\python\\python310\\lib\\site-packages (from trio~=0.17->selenium) (3.3)\n",
      "Requirement already satisfied: sniffio in c:\\users\\john.delmundo\\appdata\\local\\programs\\python\\python310\\lib\\site-packages (from trio~=0.17->selenium) (1.2.0)\n",
      "Requirement already satisfied: attrs>=19.2.0 in c:\\users\\john.delmundo\\appdata\\local\\programs\\python\\python310\\lib\\site-packages (from trio~=0.17->selenium) (21.4.0)\n",
      "Requirement already satisfied: wsproto>=0.14 in c:\\users\\john.delmundo\\appdata\\local\\programs\\python\\python310\\lib\\site-packages (from trio-websocket~=0.9->selenium) (1.1.0)\n",
      "Requirement already satisfied: PySocks!=1.5.7,<2.0,>=1.5.6 in c:\\users\\john.delmundo\\appdata\\local\\programs\\python\\python310\\lib\\site-packages (from urllib3[secure,socks]~=1.26->selenium) (1.7.1)\n",
      "Requirement already satisfied: pyOpenSSL>=0.14 in c:\\users\\john.delmundo\\appdata\\local\\programs\\python\\python310\\lib\\site-packages (from urllib3[secure,socks]~=1.26->selenium) (22.0.0)\n",
      "Requirement already satisfied: cryptography>=1.3.4 in c:\\users\\john.delmundo\\appdata\\local\\programs\\python\\python310\\lib\\site-packages (from urllib3[secure,socks]~=1.26->selenium) (37.0.2)\n",
      "Requirement already satisfied: certifi in c:\\users\\john.delmundo\\appdata\\local\\programs\\python\\python310\\lib\\site-packages (from urllib3[secure,socks]~=1.26->selenium) (2021.10.8)\n",
      "Requirement already satisfied: soupsieve>1.2 in c:\\users\\john.delmundo\\appdata\\local\\programs\\python\\python310\\lib\\site-packages (from beautifulsoup4->bs4) (2.3.2.post1)\n",
      "Requirement already satisfied: pyparsing!=3.0.5,>=2.0.2 in c:\\users\\john.delmundo\\appdata\\local\\programs\\python\\python310\\lib\\site-packages (from packaging->webdriver_manager) (3.0.9)\n",
      "Requirement already satisfied: charset-normalizer~=2.0.0 in c:\\users\\john.delmundo\\appdata\\local\\programs\\python\\python310\\lib\\site-packages (from requests->webdriver_manager) (2.0.11)\n",
      "Requirement already satisfied: colorama in c:\\users\\john.delmundo\\appdata\\local\\programs\\python\\python310\\lib\\site-packages (from tqdm->webdriver_manager) (0.4.4)\n",
      "Requirement already satisfied: pycparser in c:\\users\\john.delmundo\\appdata\\local\\programs\\python\\python310\\lib\\site-packages (from cffi>=1.14->trio~=0.17->selenium) (2.21)\n",
      "Requirement already satisfied: h11<1,>=0.9.0 in c:\\users\\john.delmundo\\appdata\\local\\programs\\python\\python310\\lib\\site-packages (from wsproto>=0.14->trio-websocket~=0.9->selenium) (0.13.0)\n",
      "\n",
      "[notice] A new release of pip available: 22.1.2 -> 23.1.2\n",
      "[notice] To update, run: python.exe -m pip install --upgrade pip\n"
     ]
    }
   ],
   "source": [
    "!pip install webdriver_manager bs4 selenium"
   ]
  },
  {
   "cell_type": "code",
   "execution_count": 3,
   "id": "f2f3bd38",
   "metadata": {},
   "outputs": [
    {
     "name": "stderr",
     "output_type": "stream",
     "text": [
      "C:\\Users\\john.delmundo\\AppData\\Local\\Temp\\ipykernel_19808\\280705259.py:14: DeprecationWarning: executable_path has been deprecated, please pass in a Service object\n",
      "  driver = webdriver.Chrome(ChromeDriverManager().install(), options=options)\n"
     ]
    }
   ],
   "source": [
    "from selenium import webdriver\n",
    "from webdriver_manager.chrome import ChromeDriverManager\n",
    "from selenium.webdriver.chrome.options import Options\n",
    "from selenium.webdriver.support import expected_conditions as EC\n",
    "from bs4 import BeautifulSoup\n",
    "import time\n",
    "import json\n",
    "\n",
    "options = Options()\n",
    "options.headless = True\n",
    "\n",
    "URL = \"https://www.bsp.gov.ph/SitePages/Statistics/ExchangeRate.aspx\"\n",
    "\n",
    "driver = webdriver.Chrome(ChromeDriverManager().install(), options=options)\n",
    "driver.get(URL)\n",
    "time.sleep(5)\n",
    "\n",
    "with open(\"html.txt\", \"w\", encoding='utf-8') as f:\n",
    "    f.write(str(driver.page_source))\n",
    "\n",
    "html = driver.page_source\n",
    "soup = BeautifulSoup(html, \"html.parser\")\n",
    "\n",
    "table = soup.find(id=\"tb1\")\n",
    "table2 = soup.find(id=\"tb2\")\n",
    "\n",
    "cols = [\n",
    "    \"country\",\n",
    "    \"unit\",\n",
    "    \"symbol\",\n",
    "    \"euro_equivalent\",\n",
    "    \"us_dollar_equivalent\",\n",
    "    \"phil_peso_equivalent\"\n",
    "]\n",
    "\n",
    "data = {}\n",
    "data1 = list()\n",
    "\n",
    "for index, _ in enumerate(table.contents):\n",
    "    if index > 0:\n",
    "        for index, tag in enumerate(_.contents):\n",
    "            data[cols[index]] = tag.text\n",
    "        data1.append(dict(data))\n",
    "\n",
    "from datetime import datetime\n",
    "DATE_FORMAT = \"%Y%m%d_%T\"\n",
    "timestamp = datetime.now().strftime(DATE_FORMAT).replace(\":\", \"\")\n",
    "\n",
    "with open(f\"data/rates.json\", \"w\", encoding='utf-8') as f:\n",
    "    f.write(json.dumps(data1, indent=4))\n"
   ]
  },
  {
   "cell_type": "code",
   "execution_count": 4,
   "id": "b38a1c5d",
   "metadata": {},
   "outputs": [],
   "source": [
    "from pyspark.sql import SparkSession\n",
    "\n",
    "spark = SparkSession \\\n",
    "    .builder \\\n",
    "    .appName(\"Exchange Rates Analysis\") \\\n",
    "    .getOrCreate()"
   ]
  },
  {
   "cell_type": "markdown",
   "id": "19229c7a",
   "metadata": {},
   "source": [
    "## Define the structure of the schema\n",
    "\n",
    "In here, we use the **StructType** and **StructField** python classes to define the structure of our schema. "
   ]
  },
  {
   "cell_type": "code",
   "execution_count": 5,
   "id": "561eeeef",
   "metadata": {},
   "outputs": [],
   "source": [
    "from pyspark.sql.types import StructType, StructField\n",
    "from pyspark.sql.types import (\n",
    "    IntegerType, \n",
    "    StringType, \n",
    "    FloatType,\n",
    "    BinaryType\n",
    ")\n",
    "\n",
    "path = r\"data\\rates.json\"\n",
    "\n",
    "struct = StructType([\n",
    "    StructField(\"country\", StringType(), False),\n",
    "    StructField(\"unit\", StringType(), False),\n",
    "    StructField(\"symbol\", StringType(), False),\n",
    "    StructField(\"euro_equivalent\", FloatType(), False),\n",
    "    StructField(\"us_dollar_equivalent\", FloatType(), False),\n",
    "    StructField(\"phil_peso_equivalent\", FloatType(), False)\n",
    "])\n",
    "\n",
    "df = spark \\\n",
    "    .read \\\n",
    "    .option(\"multiLine\", True) \\\n",
    "    .json(path)"
   ]
  },
  {
   "cell_type": "code",
   "execution_count": 6,
   "id": "f04b22ab",
   "metadata": {},
   "outputs": [
    {
     "name": "stdout",
     "output_type": "stream",
     "text": [
      "root\n",
      " |-- country: string (nullable = true)\n",
      " |-- euro_equivalent: string (nullable = true)\n",
      " |-- phil_peso_equivalent: string (nullable = true)\n",
      " |-- symbol: string (nullable = true)\n",
      " |-- unit: string (nullable = true)\n",
      " |-- us_dollar_equivalent: string (nullable = true)\n",
      "\n"
     ]
    }
   ],
   "source": [
    "df.printSchema()"
   ]
  },
  {
   "cell_type": "code",
   "execution_count": 35,
   "id": "b1fa3d6a",
   "metadata": {},
   "outputs": [
    {
     "name": "stdout",
     "output_type": "stream",
     "text": [
      "+--------------------+\n",
      "|             country|\n",
      "+--------------------+\n",
      "| [1, UNITED, STATES]|\n",
      "|          [2, JAPAN]|\n",
      "|[3, UNITED, KINGDOM]|\n",
      "|       [4, HONGKONG]|\n",
      "|    [5, SWITZERLAND]|\n",
      "|         [6, CANADA]|\n",
      "|      [7, SINGAPORE]|\n",
      "|      [8, AUSTRALIA]|\n",
      "|        [9, BAHRAIN]|\n",
      "|        [10, KUWAIT]|\n",
      "| [11, SAUDI, ARABIA]|\n",
      "|        [12, BRUNEI]|\n",
      "|     [13, INDONESIA]|\n",
      "|      [14, THAILAND]|\n",
      "|[15, UNITED, ARAB...|\n",
      "|[16, EUROPEAN, MO...|\n",
      "|         [17, KOREA]|\n",
      "|         [18, CHINA]|\n",
      "+--------------------+\n",
      "\n"
     ]
    }
   ],
   "source": [
    "from pyspark.sql.functions import split\n",
    "\n",
    "df1 = df.select(\n",
    "    split(\"country\", \" \", -1).alias(\"country\"),\n",
    "    \"unit\",\n",
    "    \"symbol\",\n",
    "    \"euro_equivalent\",\n",
    "    \"us_dollar_equivalent\",\n",
    "    \"phil_peso_equivalent\"\n",
    ")\n",
    "\n",
    "df1.select(\"country\").show()"
   ]
  },
  {
   "cell_type": "code",
   "execution_count": 36,
   "id": "9f879f93",
   "metadata": {},
   "outputs": [
    {
     "name": "stdout",
     "output_type": "stream",
     "text": [
      "+--------------------+\n",
      "|             country|\n",
      "+--------------------+\n",
      "|    [UNITED, STATES]|\n",
      "|             [JAPAN]|\n",
      "|   [UNITED, KINGDOM]|\n",
      "|          [HONGKONG]|\n",
      "|       [SWITZERLAND]|\n",
      "|            [CANADA]|\n",
      "|         [SINGAPORE]|\n",
      "|         [AUSTRALIA]|\n",
      "|           [BAHRAIN]|\n",
      "|            [KUWAIT]|\n",
      "|     [SAUDI, ARABIA]|\n",
      "|            [BRUNEI]|\n",
      "|         [INDONESIA]|\n",
      "|          [THAILAND]|\n",
      "|[UNITED, ARAB, EM...|\n",
      "|[EUROPEAN, MONETA...|\n",
      "|             [KOREA]|\n",
      "|             [CHINA]|\n",
      "+--------------------+\n",
      "\n"
     ]
    }
   ],
   "source": [
    "from pyspark.sql.functions import slice, concat_ws, size\n",
    "\n",
    "df1 = df1.select(\n",
    "    slice(\"country\", 2, size(\"country\")).alias(\"country\"),\n",
    "    \"unit\",\n",
    "    \"symbol\",\n",
    "    \"euro_equivalent\",\n",
    "    \"us_dollar_equivalent\",\n",
    "    \"phil_peso_equivalent\"\n",
    ")\n",
    "\n",
    "df1.select(\"country\").show()\n",
    "\n",
    "df1_view = df1.createOrReplaceTempView(\"exchange_rates\")"
   ]
  },
  {
   "cell_type": "code",
   "execution_count": 37,
   "id": "55ab696d",
   "metadata": {},
   "outputs": [
    {
     "name": "stdout",
     "output_type": "stream",
     "text": [
      "+--------------------+\n",
      "|             country|\n",
      "+--------------------+\n",
      "|       UNITED STATES|\n",
      "|               JAPAN|\n",
      "|      UNITED KINGDOM|\n",
      "|            HONGKONG|\n",
      "|         SWITZERLAND|\n",
      "|              CANADA|\n",
      "|           SINGAPORE|\n",
      "|           AUSTRALIA|\n",
      "|             BAHRAIN|\n",
      "|              KUWAIT|\n",
      "|        SAUDI ARABIA|\n",
      "|              BRUNEI|\n",
      "|           INDONESIA|\n",
      "|            THAILAND|\n",
      "|UNITED ARAB EMIRATES|\n",
      "|EUROPEAN MONETARY...|\n",
      "|               KOREA|\n",
      "|               CHINA|\n",
      "+--------------------+\n",
      "\n"
     ]
    }
   ],
   "source": [
    "from pyspark.sql.functions import concat_ws\n",
    "\n",
    "df1 = df1.select(\n",
    "    concat_ws(\" \", \"country\").alias(\"country\"),\n",
    "    \"unit\",\n",
    "    \"symbol\",\n",
    "    \"euro_equivalent\",\n",
    "    \"us_dollar_equivalent\",\n",
    "    \"phil_peso_equivalent\"\n",
    ")\n",
    "\n",
    "df1.select(\"country\").show()\n",
    "\n",
    "df1_view = df1.createOrReplaceTempView(\"exchange_rates\")"
   ]
  },
  {
   "cell_type": "code",
   "execution_count": 38,
   "id": "ab9e4aac",
   "metadata": {},
   "outputs": [
    {
     "name": "stdout",
     "output_type": "stream",
     "text": [
      "+--------------------+\n",
      "|             country|\n",
      "+--------------------+\n",
      "|       United States|\n",
      "|               Japan|\n",
      "|      United Kingdom|\n",
      "|            Hongkong|\n",
      "|         Switzerland|\n",
      "|              Canada|\n",
      "|           Singapore|\n",
      "|           Australia|\n",
      "|             Bahrain|\n",
      "|              Kuwait|\n",
      "|        Saudi Arabia|\n",
      "|              Brunei|\n",
      "|           Indonesia|\n",
      "|            Thailand|\n",
      "|United Arab Emirates|\n",
      "|European Monetary...|\n",
      "|               Korea|\n",
      "|               China|\n",
      "+--------------------+\n",
      "\n"
     ]
    }
   ],
   "source": [
    "script = \"\"\"SELECT \n",
    "                INITCAP(country) AS country, \n",
    "                unit, \n",
    "                symbol, \n",
    "                euro_equivalent, \n",
    "                us_dollar_equivalent,\n",
    "                phil_peso_equivalent \n",
    "            from \n",
    "                exchange_rates\n",
    "    \"\"\"\n",
    "\n",
    "res = spark.sql(script)\n",
    "res.select(\"country\").show()"
   ]
  },
  {
   "cell_type": "code",
   "execution_count": 39,
   "id": "631de280",
   "metadata": {},
   "outputs": [
    {
     "name": "stdout",
     "output_type": "stream",
     "text": [
      "+--------------------+--------+------+---------------+--------------------+--------------------+----------+\n",
      "|             country|    unit|symbol|euro_equivalent|us_dollar_equivalent|phil_peso_equivalent| timestamp|\n",
      "+--------------------+--------+------+---------------+--------------------+--------------------+----------+\n",
      "|       United States|  DOLLAR|   USD|       0.928333|            1.000000|             55.9670|2023-05-19|\n",
      "|               Japan|     YEN|   JPY|       0.006695|            0.007212|              0.4036|2023-05-19|\n",
      "|      United Kingdom|   POUND|   GBP|       1.151875|            1.240800|             69.4439|2023-05-19|\n",
      "|            Hongkong|  DOLLAR|   HKD|       0.118612|            0.127769|              7.1508|2023-05-19|\n",
      "|         Switzerland|   FRANC|   CHF|       1.026009|            1.105217|             61.8557|2023-05-19|\n",
      "|              Canada|  DOLLAR|   CAD|       0.687552|            0.740631|             41.4509|2023-05-19|\n",
      "|           Singapore|  DOLLAR|   SGD|       0.688930|            0.742115|             41.5340|2023-05-19|\n",
      "|           Australia|  DOLLAR|   AUD|       0.614649|            0.662100|             37.0558|2023-05-19|\n",
      "|             Bahrain|  DINAR*|   BHD|       2.462748|            2.652872|            148.4733|2023-05-19|\n",
      "|              Kuwait|   DINAR|   KWD|            N/A|                 N/A|                 N/A|2023-05-19|\n",
      "|        Saudi Arabia|   RIYAL|   SAR|       0.247562|            0.266674|             14.9249|2023-05-19|\n",
      "|              Brunei|  DOLLAR|   BND|       0.686383|            0.739372|             41.3804|2023-05-19|\n",
      "|           Indonesia|  RUPIAH|   IDR|       0.000062|            0.000067|              0.0037|2023-05-19|\n",
      "|            Thailand|BAHT****|   THB|       0.026994|            0.029078|              1.6274|2023-05-19|\n",
      "|United Arab Emirates|  DIRHAM|   AED|       0.252862|            0.272383|             15.2445|2023-05-19|\n",
      "|European Monetary...|    EURO|   EUR|       1.000000|            1.077200|             60.2877|2023-05-19|\n",
      "|               Korea|     WON|   KRW|       0.000696|            0.000750|              0.0420|2023-05-19|\n",
      "|               China|  YUAN**|   CNY|       0.131922|            0.142106|              7.9532|2023-05-19|\n",
      "+--------------------+--------+------+---------------+--------------------+--------------------+----------+\n",
      "\n"
     ]
    }
   ],
   "source": [
    "from pyspark.sql.functions import (\n",
    "    current_date, \n",
    "    current_timestamp\n",
    ")\n",
    "\n",
    "res.select(\"*\").withColumn(\"timestamp\", current_date()).show()"
   ]
  },
  {
   "cell_type": "code",
   "execution_count": null,
   "id": "06486748",
   "metadata": {},
   "outputs": [],
   "source": [
    "res.dispaly"
   ]
  }
 ],
 "metadata": {
  "kernelspec": {
   "display_name": "Python 3 (ipykernel)",
   "language": "python",
   "name": "python3"
  },
  "language_info": {
   "codemirror_mode": {
    "name": "ipython",
    "version": 3
   },
   "file_extension": ".py",
   "mimetype": "text/x-python",
   "name": "python",
   "nbconvert_exporter": "python",
   "pygments_lexer": "ipython3",
   "version": "3.10.0"
  }
 },
 "nbformat": 4,
 "nbformat_minor": 5
}
